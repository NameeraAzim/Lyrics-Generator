{
  "nbformat": 4,
  "nbformat_minor": 0,
  "metadata": {
    "colab": {
      "name": "GRU-model.ipynb",
      "provenance": [],
      "collapsed_sections": []
    },
    "kernelspec": {
      "name": "python3",
      "display_name": "Python 3"
    },
    "language_info": {
      "name": "python"
    }
  },
  "cells": [
    {
      "cell_type": "code",
      "source": [
        "# Import relevant libraries\n",
        "\n",
        "!pip install spotipy"
      ],
      "metadata": {
        "id": "tGvO5gx7CjuT",
        "colab": {
          "base_uri": "https://localhost:8080/"
        },
        "outputId": "1045dcc5-6355-419b-c607-e3575f88c075"
      },
      "execution_count": null,
      "outputs": [
        {
          "output_type": "stream",
          "name": "stdout",
          "text": [
            "Collecting spotipy\n",
            "  Downloading spotipy-2.19.0-py3-none-any.whl (27 kB)\n",
            "Requirement already satisfied: six>=1.15.0 in /usr/local/lib/python3.7/dist-packages (from spotipy) (1.15.0)\n",
            "Collecting requests>=2.25.0\n",
            "  Downloading requests-2.27.1-py2.py3-none-any.whl (63 kB)\n",
            "\u001b[K     |████████████████████████████████| 63 kB 1.2 MB/s \n",
            "\u001b[?25hCollecting urllib3>=1.26.0\n",
            "  Downloading urllib3-1.26.9-py2.py3-none-any.whl (138 kB)\n",
            "\u001b[K     |████████████████████████████████| 138 kB 25.7 MB/s \n",
            "\u001b[?25hRequirement already satisfied: idna<4,>=2.5 in /usr/local/lib/python3.7/dist-packages (from requests>=2.25.0->spotipy) (2.10)\n",
            "Requirement already satisfied: charset-normalizer~=2.0.0 in /usr/local/lib/python3.7/dist-packages (from requests>=2.25.0->spotipy) (2.0.12)\n",
            "Requirement already satisfied: certifi>=2017.4.17 in /usr/local/lib/python3.7/dist-packages (from requests>=2.25.0->spotipy) (2021.10.8)\n",
            "Installing collected packages: urllib3, requests, spotipy\n",
            "  Attempting uninstall: urllib3\n",
            "    Found existing installation: urllib3 1.24.3\n",
            "    Uninstalling urllib3-1.24.3:\n",
            "      Successfully uninstalled urllib3-1.24.3\n",
            "  Attempting uninstall: requests\n",
            "    Found existing installation: requests 2.23.0\n",
            "    Uninstalling requests-2.23.0:\n",
            "      Successfully uninstalled requests-2.23.0\n",
            "\u001b[31mERROR: pip's dependency resolver does not currently take into account all the packages that are installed. This behaviour is the source of the following dependency conflicts.\n",
            "google-colab 1.0.0 requires requests~=2.23.0, but you have requests 2.27.1 which is incompatible.\n",
            "datascience 0.10.6 requires folium==0.2.1, but you have folium 0.8.3 which is incompatible.\u001b[0m\n",
            "Successfully installed requests-2.27.1 spotipy-2.19.0 urllib3-1.26.9\n"
          ]
        }
      ]
    },
    {
      "cell_type": "code",
      "source": [
        "import pandas as pd\n",
        "import spotipy\n",
        "from spotipy.oauth2 import SpotifyClientCredentials\n",
        "from bs4 import BeautifulSoup\n",
        "import requests\n",
        "\n",
        "import torch\n",
        "import torch.nn as nn\n",
        "import torch.nn.functional as F\n",
        "import torch.optim as optim\n",
        "import matplotlib.pyplot as plt\n",
        "\n",
        "from torchtext.legacy import data as torchtext_data"
      ],
      "metadata": {
        "id": "aCuhIlMWd4nv"
      },
      "execution_count": null,
      "outputs": []
    },
    {
      "cell_type": "code",
      "source": [
        "# Connect to Spotify\n",
        "\n",
        "cid ='5e9160c5b94c4811ab7c239b3a36a460'\n",
        "secret ='f8288b7c62564f25a5c7d94bd185e896'\n",
        "\n",
        "client_credentials_manager = SpotifyClientCredentials(client_id=cid, client_secret=secret)\n",
        "sp = spotipy.Spotify(client_credentials_manager = client_credentials_manager)"
      ],
      "metadata": {
        "id": "bishKU8YC1Ny"
      },
      "execution_count": null,
      "outputs": []
    },
    {
      "cell_type": "code",
      "execution_count": null,
      "metadata": {
        "id": "QXkV9G6l-hyA"
      },
      "outputs": [],
      "source": [
        "# Function to scrape lyrics from Genius\n",
        "\n",
        "def get_album_tracks(uri_info, limit, offset=0):\n",
        "  titles = []\n",
        "  artists = []\n",
        "  one = sp.playlist_tracks(uri_info, limit=limit, offset=offset, market='US')\n",
        "  df1 = pd.DataFrame(one)\n",
        "  for i, x in df1['items'].items():\n",
        "    track = x['track']\n",
        "    titles.append(track['name'])\n",
        "    artists.append(track['artists'][0]['name'])\n",
        "    df2 = pd.DataFrame({'title':titles,'artist':artists})\n",
        "  return df2\n",
        "\n",
        "def scrape_lyrics(artistname, songname):\n",
        "  artistname2 = str(artistname.replace(' ','-')) if ' ' in artistname else str(artistname)\n",
        "  songname2 = str(songname.replace(' ','-')) if ' ' in songname else str(songname)\n",
        "  page = requests.get('https://genius.com/'+ artistname2 + '-' + songname2 + '-' + 'lyrics')\n",
        "  html = BeautifulSoup(page.text, 'html.parser')\n",
        "\n",
        "  lyrics1 = html.find(\"div\", class_=\"lyrics\")\n",
        "  lyrics2 = html.find(\"div\", class_=\"Lyrics__Container-sc-1ynbvzw-6 jYfhrf\")\n",
        "  if lyrics1:\n",
        "    lyrics = lyrics1.get_text()\n",
        "  elif lyrics2:\n",
        "    lyrics = lyrics2.get_text()\n",
        "  elif lyrics1 == lyrics2 == None:\n",
        "    lyrics = None\n",
        "\n",
        "  lines = []\n",
        "  for div in html.findAll('div', {'class': 'Lyrics__Container-sc-1ynbvzw-6 jYfhrf'}):\n",
        "    lines.extend([text if text[0] != '[' else ' ' for text in div.stripped_strings])\n",
        "    \n",
        "  lyrics = \"\"\n",
        "  for line in lines:\n",
        "    if line != ' ':\n",
        "      lyrics += line + '@'  \n",
        "\n",
        "  return lyrics\n"
      ]
    },
    {
      "cell_type": "code",
      "source": [
        "# Scrape lyrics for the target genre\n",
        "\n",
        "uri = 'spotify:playlist:5JDQq97ipoyekmMG5If3yc'\n",
        "collections = [get_album_tracks(uri, 100, 0), \n",
        "               get_album_tracks(uri, 100, 100), \n",
        "               get_album_tracks(uri, 100, 200), \n",
        "               get_album_tracks(uri, 12, 300)]\n",
        "\n",
        "lyrics = []\n",
        "for df_tracks in collections:\n",
        "  for index, row in df_tracks.iterrows():\n",
        "      song = scrape_lyrics(row['artist'], row['title'])\n",
        "      if song != '':\n",
        "        lyrics.append([song])\n",
        "\n",
        "print(lyrics[-1])"
      ],
      "metadata": {
        "id": "WzWaX8pa6Oy-",
        "colab": {
          "base_uri": "https://localhost:8080/"
        },
        "outputId": "362c8ae9-72f3-4d52-a036-5079aec7aac8"
      },
      "execution_count": null,
      "outputs": [
        {
          "output_type": "stream",
          "name": "stdout",
          "text": [
            "[\"She used to be@Everything to me@When she was my girl@When she was my girl@I held her near@Told her how much I cared@When she was my girl@When she was my girl@When she was my girl@There was laughter and loving in my world@Everyday@When she was my girl@Oh what joy she would bring@Now I've lost everything@She's gone, gone, gone, gone, gone@I spend the night@Dreaming how she used to be@When she was my girl@When she was my girl@When she was my girl@There was laughter and loving in my world@Yes It Was@Cause she was my girl@Oh what joy she would bring@Now I've lost everything@She's gone,  my big legged girl is gone@She used to be@Everything to me@When she was my girl@When she was my girl@She, she's my girl@She's so foxy can't you see@And this girl belongs to me@She's my girl@When we walk down the street@I would tell everyone we meet@This is my girl@She, she was my girl@I loved, I loved ...@\"]\n"
          ]
        }
      ]
    },
    {
      "cell_type": "code",
      "source": [
        "from google.colab import drive\n",
        "drive.mount('/content/drive')"
      ],
      "metadata": {
        "colab": {
          "base_uri": "https://localhost:8080/"
        },
        "id": "8wFUnZrawZ-o",
        "outputId": "d101f602-0216-48f9-ad66-cd9b10029aa6"
      },
      "execution_count": null,
      "outputs": [
        {
          "output_type": "stream",
          "name": "stdout",
          "text": [
            "Mounted at /content/drive\n"
          ]
        }
      ]
    },
    {
      "cell_type": "code",
      "source": [
        "import csv \n",
        "\n",
        "f_lyrics = open('/content/drive/MyDrive/csv_lyrics', 'w')\n",
        "writer = csv.writer(f_lyrics)\n",
        "\n",
        "for l in lyrics:\n",
        "  writer.writerow(l)  \n",
        "\n",
        "f_lyrics.close()"
      ],
      "metadata": {
        "id": "cp7evVs3v7i0"
      },
      "execution_count": null,
      "outputs": []
    },
    {
      "cell_type": "code",
      "source": [
        "f_overfit = open('/content/drive/MyDrive/csv_lyrics_overfit', 'w')\n",
        "writer = csv.writer(f_overfit)\n",
        "\n",
        "writer.writerow([lyrics[1]])  \n",
        "\n",
        "f_overfit.close()"
      ],
      "metadata": {
        "id": "A5iWKy54EmqW"
      },
      "execution_count": null,
      "outputs": []
    },
    {
      "cell_type": "code",
      "source": [
        "# Count characters\n",
        "\n",
        "chars = set()\n",
        "for song in lyrics:\n",
        "  for line in song:\n",
        "    temp = list(set(line))\n",
        "    for char in temp:\n",
        "      chars.add(char)\n",
        "\n",
        "chars.add(\"<BOS>\")\n",
        "chars.add(\"<EOS>\")\n",
        "chars = sorted(chars)\n",
        "char_size = len(chars)\n",
        "\n",
        "print(chars)\n",
        "print(\"Number of unique characters: \" + str(char_size))"
      ],
      "metadata": {
        "colab": {
          "base_uri": "https://localhost:8080/"
        },
        "id": "vqWwdc9S7KfI",
        "outputId": "5ee117d3-c683-4b47-c1ab-1e060e178a7c"
      },
      "execution_count": null,
      "outputs": [
        {
          "output_type": "stream",
          "name": "stdout",
          "text": [
            "[' ', '!', '\"', \"'\", '(', ')', ',', '-', '.', '0', '1', '2', '3', '4', '5', '6', '7', '8', '9', ':', ';', '<BOS>', '<EOS>', '?', '@', 'A', 'B', 'C', 'D', 'E', 'F', 'G', 'H', 'I', 'J', 'K', 'L', 'M', 'N', 'O', 'P', 'Q', 'R', 'S', 'T', 'U', 'V', 'W', 'Y', ']', 'a', 'b', 'c', 'd', 'e', 'f', 'g', 'h', 'i', 'j', 'k', 'l', 'm', 'n', 'o', 'p', 'q', 'r', 's', 't', 'u', 'v', 'w', 'x', 'y', 'z', '{', '}', 'ñ', '\\u2005', '—', '‘', '’', '…']\n",
            "Number of unique characters: 84\n"
          ]
        }
      ]
    },
    {
      "cell_type": "code",
      "source": [
        "# Create dictionary of characters\n",
        "\n",
        "char_to_index = dict((c, i) for i, c in enumerate(chars))\n",
        "index_to_char = dict((i, c) for i, c in enumerate(chars))\n",
        "\n",
        "print(char_to_index)\n",
        "print(index_to_char)"
      ],
      "metadata": {
        "colab": {
          "base_uri": "https://localhost:8080/"
        },
        "id": "QpuxzFw4-mlN",
        "outputId": "6e202877-ad55-469d-9efa-f8d931bb33fe"
      },
      "execution_count": null,
      "outputs": [
        {
          "output_type": "stream",
          "name": "stdout",
          "text": [
            "{' ': 0, '!': 1, '\"': 2, \"'\": 3, '(': 4, ')': 5, ',': 6, '-': 7, '.': 8, '0': 9, '1': 10, '2': 11, '3': 12, '4': 13, '5': 14, '6': 15, '7': 16, '8': 17, '9': 18, ':': 19, ';': 20, '<BOS>': 21, '<EOS>': 22, '?': 23, '@': 24, 'A': 25, 'B': 26, 'C': 27, 'D': 28, 'E': 29, 'F': 30, 'G': 31, 'H': 32, 'I': 33, 'J': 34, 'K': 35, 'L': 36, 'M': 37, 'N': 38, 'O': 39, 'P': 40, 'Q': 41, 'R': 42, 'S': 43, 'T': 44, 'U': 45, 'V': 46, 'W': 47, 'Y': 48, ']': 49, 'a': 50, 'b': 51, 'c': 52, 'd': 53, 'e': 54, 'f': 55, 'g': 56, 'h': 57, 'i': 58, 'j': 59, 'k': 60, 'l': 61, 'm': 62, 'n': 63, 'o': 64, 'p': 65, 'q': 66, 'r': 67, 's': 68, 't': 69, 'u': 70, 'v': 71, 'w': 72, 'x': 73, 'y': 74, 'z': 75, '{': 76, '}': 77, 'ñ': 78, '\\u2005': 79, '—': 80, '‘': 81, '’': 82, '…': 83}\n",
            "{0: ' ', 1: '!', 2: '\"', 3: \"'\", 4: '(', 5: ')', 6: ',', 7: '-', 8: '.', 9: '0', 10: '1', 11: '2', 12: '3', 13: '4', 14: '5', 15: '6', 16: '7', 17: '8', 18: '9', 19: ':', 20: ';', 21: '<BOS>', 22: '<EOS>', 23: '?', 24: '@', 25: 'A', 26: 'B', 27: 'C', 28: 'D', 29: 'E', 30: 'F', 31: 'G', 32: 'H', 33: 'I', 34: 'J', 35: 'K', 36: 'L', 37: 'M', 38: 'N', 39: 'O', 40: 'P', 41: 'Q', 42: 'R', 43: 'S', 44: 'T', 45: 'U', 46: 'V', 47: 'W', 48: 'Y', 49: ']', 50: 'a', 51: 'b', 52: 'c', 53: 'd', 54: 'e', 55: 'f', 56: 'g', 57: 'h', 58: 'i', 59: 'j', 60: 'k', 61: 'l', 62: 'm', 63: 'n', 64: 'o', 65: 'p', 66: 'q', 67: 'r', 68: 's', 69: 't', 70: 'u', 71: 'v', 72: 'w', 73: 'x', 74: 'y', 75: 'z', 76: '{', 77: '}', 78: 'ñ', 79: '\\u2005', 80: '—', 81: '‘', 82: '’', 83: '…'}\n"
          ]
        }
      ]
    },
    {
      "cell_type": "code",
      "source": [
        "# Building the model\n",
        "\n",
        "class SongGeneratorGRU(nn.Module):\n",
        "  def __init__(self, char_size, embedding_size, hidden_size):\n",
        "    super(SongGeneratorGRU, self).__init__()\n",
        "\n",
        "    # Embedding layer\n",
        "    self.embed = nn.Embedding(num_embeddings=char_size, embedding_dim=embedding_size)\n",
        "\n",
        "    # RNN layer\n",
        "    self.rnn = nn.GRU(input_size=embedding_size, hidden_size=hidden_size, batch_first=True)\n",
        "\n",
        "    # Projection MLP layer\n",
        "    self.mlp = nn.Linear(in_features=hidden_size, out_features=char_size)\n",
        "\n",
        "  def forward(self, data, hidden=None):\n",
        "    emb = self.embed(data)\n",
        "    output, hidden = self.rnn(emb, hidden)\n",
        "    output = self.mlp(output)\n",
        "    return output, hidden\n"
      ],
      "metadata": {
        "id": "9eeB3IFuBtO_"
      },
      "execution_count": null,
      "outputs": []
    },
    {
      "cell_type": "code",
      "source": [
        " # Train with Teacher Forcing\n",
        "\n",
        "def train(model, data, vocab_size, batch_size=1, num_epochs=1, lr=0.001, print_every=100):\n",
        "    optimizer = torch.optim.Adam(model.parameters(), lr=lr)\n",
        "    criterion = nn.CrossEntropyLoss()\n",
        "    it = 0\n",
        "    \n",
        "    losses, train_acc, valid_acc = [], [], []\n",
        "    epochs = []\n",
        "\n",
        "    data_iter = torchtext_data.BucketIterator(data, \n",
        "                                              batch_size=batch_size,\n",
        "                                              sort_key=lambda x: len(x.text),\n",
        "                                              sort_within_batch=True)\n",
        "    \n",
        "    for e in range(num_epochs):\n",
        "        # get training set\n",
        "        avg_loss = 0\n",
        "        for (lyric, lengths), label in data_iter:\n",
        "            target = lyric[:,1:]\n",
        "            inp = lyric[:,:-1]\n",
        "            # cleanup\n",
        "            optimizer.zero_grad()\n",
        "            # forward pass\n",
        "            output, hidden = model(inp)\n",
        "            loss = criterion(output.reshape(-1, vocab_size), target.reshape(-1))\n",
        "            # backward pass\n",
        "            loss.backward()\n",
        "            optimizer.step()\n",
        "\n",
        "            avg_loss += loss\n",
        "            losses.append(float(loss)/lyric.size()[0])\n",
        "            it += 1 # increment iteration count\n",
        "            if it % print_every == 0:\n",
        "                print(\"[Iter %d] Loss %f\" % (it+1, float(avg_loss/print_every)))\n",
        "                avg_loss = 0\n",
        "        \n",
        "        \n",
        "\n",
        "    plt.title(\"Training Curve\")\n",
        "    plt.plot(losses, label=\"Train\")\n",
        "    plt.xlabel(\"Epoch\")\n",
        "    plt.ylabel(\"Loss\")\n",
        "    plt.show()"
      ],
      "metadata": {
        "id": "S3oiQ33MMw0V"
      },
      "execution_count": null,
      "outputs": []
    },
    {
      "cell_type": "code",
      "source": [
        "text_field_overfit = torchtext_data.Field(sequential=True,      # text sequence\n",
        "                                  tokenize=lambda x: x, # because are building a character-RNN\n",
        "                                  include_lengths=True, # to track the length of sequences, for batching\n",
        "                                  batch_first=True,\n",
        "                                  use_vocab=True,       # to turn each character into an integer index\n",
        "                                  init_token=\"<BOS>\",   # BOS token\n",
        "                                  eos_token=\"<EOS>\")    # EOS token\n",
        "\n",
        "fields_overfit = [('text', text_field_overfit)]\n",
        "lyrics_overfit = torchtext_data.TabularDataset(\"/content/drive/MyDrive/csv_lyrics_overfit\", \"csv\", fields_overfit)\n",
        "text_field_overfit.build_vocab(lyrics_overfit)\n",
        "vocab_stoi_overfit = text_field_overfit.vocab.stoi # so we don't have to rewrite sample_sequence\n",
        "vocab_itos_overfit = text_field_overfit.vocab.itos # so we don't have to rewrite sample_sequence\n",
        "vocab_size_overfit = len(text_field_overfit.vocab.itos)\n",
        "print(vocab_size_overfit)\n",
        "len(lyrics_overfit)\n",
        "\n",
        "model = SongGeneratorGRU(vocab_size_overfit, 256, 256) #char_size, embedding_size, hidden_size\n",
        "train(model, lyrics_overfit, vocab_size_overfit, batch_size=1, num_epochs=60, lr=0.004, print_every=10)"
      ],
      "metadata": {
        "colab": {
          "base_uri": "https://localhost:8080/",
          "height": 417
        },
        "id": "EB7B1ZQ6F6_i",
        "outputId": "8efde43c-0abf-434d-c50c-5a833d3a9eb4"
      },
      "execution_count": null,
      "outputs": [
        {
          "output_type": "stream",
          "name": "stdout",
          "text": [
            "47\n",
            "[Iter 11] Loss 0.152794\n",
            "[Iter 21] Loss 0.073425\n",
            "[Iter 31] Loss 0.028791\n",
            "[Iter 41] Loss 0.010719\n",
            "[Iter 51] Loss 0.004770\n",
            "[Iter 61] Loss 0.002826\n"
          ]
        },
        {
          "output_type": "display_data",
          "data": {
            "text/plain": [
              "<Figure size 432x288 with 1 Axes>"
            ],
            "image/png": "[encoded data removed]"
          },
          "metadata": {
            "needs_background": "light"
          }
        }
      ]
    },
    {
      "cell_type": "code",
      "source": [
        "text_field = torchtext_data.Field(sequential=True,      # text sequence\n",
        "                                  tokenize=lambda x: x, # because are building a character-RNN\n",
        "                                  include_lengths=True, # to track the length of sequences, for batching\n",
        "                                  batch_first=True,\n",
        "                                  use_vocab=True,       # to turn each character into an integer index\n",
        "                                  init_token=\"<BOS>\",   # BOS token\n",
        "                                  eos_token=\"<EOS>\")    # EOS token\n",
        "\n",
        "fields = [('text', text_field)]\n",
        "lyrics = torchtext_data.TabularDataset(\"/content/drive/MyDrive/csv_lyrics\", \"csv\", fields)\n",
        "text_field.build_vocab(lyrics)\n",
        "vocab_stoi = text_field.vocab.stoi # so we don't have to rewrite sample_sequence\n",
        "vocab_itos = text_field.vocab.itos # so we don't have to rewrite sample_sequence\n",
        "vocab_size = len(text_field.vocab.itos)\n",
        "print(vocab_size)\n",
        "len(lyrics)"
      ],
      "metadata": {
        "colab": {
          "base_uri": "https://localhost:8080/"
        },
        "id": "az-cAZ86yXFn",
        "outputId": "f9bb42da-b24a-425f-dafa-d978527f1607"
      },
      "execution_count": null,
      "outputs": [
        {
          "output_type": "stream",
          "name": "stdout",
          "text": [
            "86\n"
          ]
        },
        {
          "output_type": "execute_result",
          "data": {
            "text/plain": [
              "176"
            ]
          },
          "metadata": {},
          "execution_count": 16
        }
      ]
    },
    {
      "cell_type": "code",
      "source": [
        "model = SongGeneratorGRU(vocab_size, 256, 256) #char_size, embedding_size, hidden_size\n",
        "train(model, lyrics, vocab_size, batch_size=10, num_epochs=95, lr=0.007, print_every=50)"
      ],
      "metadata": {
        "id": "YqlVAj9h8lME",
        "colab": {
          "base_uri": "https://localhost:8080/",
          "height": 885
        },
        "outputId": "abe0cb3c-ad0c-4cdd-fba4-94cbda084d17"
      },
      "execution_count": null,
      "outputs": [
        {
          "output_type": "stream",
          "name": "stdout",
          "text": [
            "[Iter 51] Loss 0.455567\n",
            "[Iter 101] Loss 0.274778\n",
            "[Iter 151] Loss 0.149856\n",
            "[Iter 201] Loss 0.045038\n",
            "[Iter 251] Loss 0.362286\n",
            "[Iter 301] Loss 0.257558\n",
            "[Iter 351] Loss 0.163556\n",
            "[Iter 401] Loss 0.078083\n",
            "[Iter 451] Loss 0.343373\n",
            "[Iter 501] Loss 0.252763\n",
            "[Iter 551] Loss 0.172609\n",
            "[Iter 601] Loss 0.101485\n",
            "[Iter 651] Loss 0.031363\n",
            "[Iter 701] Loss 0.260477\n",
            "[Iter 751] Loss 0.186800\n",
            "[Iter 801] Loss 0.116712\n",
            "[Iter 851] Loss 0.063098\n",
            "[Iter 901] Loss 0.273792\n",
            "[Iter 951] Loss 0.209787\n",
            "[Iter 1001] Loss 0.155668\n",
            "[Iter 1051] Loss 0.083389\n",
            "[Iter 1101] Loss 0.027014\n",
            "[Iter 1151] Loss 0.231781\n",
            "[Iter 1201] Loss 0.176259\n",
            "[Iter 1251] Loss 0.115295\n",
            "[Iter 1301] Loss 0.060522\n",
            "[Iter 1351] Loss 0.270431\n",
            "[Iter 1401] Loss 0.203327\n",
            "[Iter 1451] Loss 0.149816\n",
            "[Iter 1501] Loss 0.091177\n",
            "[Iter 1551] Loss 0.028731\n",
            "[Iter 1601] Loss 0.255124\n",
            "[Iter 1651] Loss 0.197414\n",
            "[Iter 1701] Loss 0.132240\n"
          ]
        },
        {
          "output_type": "display_data",
          "data": {
            "text/plain": [
              "<Figure size 432x288 with 1 Axes>"
            ],
            "image/png": "[encoded data removed]"
          },
          "metadata": {
            "needs_background": "light"
          }
        }
      ]
    },
    {
      "cell_type": "code",
      "source": [
        "# LET'S MAKE SOME MUSIC 🎵🎶\n",
        "\n",
        "def sample_sequence(model, max_len=100, temperature=0.8):\n",
        "    generated_sequence = \"\"\n",
        "   \n",
        "    inp = torch.Tensor([vocab_stoi[\"<BOS>\"]]).long()\n",
        "    hidden = None\n",
        "    for p in range(max_len):\n",
        "        output, hidden = model(inp.unsqueeze(0), hidden)\n",
        "        # Sample from the network as a multinomial distribution\n",
        "        output_dist = output.data.view(-1).div(temperature).exp()\n",
        "        top_i = int(torch.multinomial(output_dist, 1)[0])\n",
        "        # Add predicted character to string and use as next input\n",
        "        predicted_char = vocab_itos[top_i]\n",
        "        \n",
        "        if predicted_char == \"<EOS>\":\n",
        "            break\n",
        "        generated_sequence += predicted_char       \n",
        "        inp = torch.Tensor([top_i]).long()\n",
        "    return generated_sequence.replace('@', '\\n')"
      ],
      "metadata": {
        "id": "E1yvuI36v_cM"
      },
      "execution_count": null,
      "outputs": []
    },
    {
      "cell_type": "code",
      "source": [
        "print(sample_sequence(model, max_len=1500, temperature=0.5))"
      ],
      "metadata": {
        "id": "yFnVy_p17exO",
        "colab": {
          "base_uri": "https://localhost:8080/"
        },
        "outputId": "595ba79a-2884-48eb-f4f5-34eb89df7286"
      },
      "execution_count": null,
      "outputs": [
        {
          "output_type": "stream",
          "name": "stdout",
          "text": [
            "When I things of love's always been good to go\n",
            "Through the wings of love\n",
            "No ordinary love, sweet love, digital love\n",
            "Not that special talking there's not easy\n",
            "I'm saving allways\n",
            "Will it's not to do\n",
            "Why sweet shine\n",
            "I sing my heart tonight, oh, oh, oh, baby\n",
            "If you're the end, girl, I'm near\n",
            "And I'm so glad you could know what I wanna love\n",
            "Oh, baby, it's true\n",
            "(No, baby, just)\n",
            "Sweet sweet love\n",
            "Oh, baby, just to know, it's true\n",
            "Turne when I thought it overy limitales home\n",
            "But what it seems to have in my heart\n",
            "'Cause you said I'd never knew you were and stay\n",
            "I stand the rain?\n",
            "Can you stand the rain?\n",
            "(\n",
            "Se's gonna be alright)\n",
            "If you are the rain?\n",
            "Said it asking for you\n",
            "Show me to me\n",
            "(Oh, when you wanna love, wanna love you, baby)\n",
            "It's waitin' for you\n",
            "That's what I need you\n",
            "(\n",
            "I'm lost in love\n",
            ") I can't live without you\n",
            "(\n",
            "I'm lost in love\n",
            ") Chous and mean sometimes\n",
            "Said boy dreaming\n",
            "He laught I'd never knew\n",
            "I know that I need\n",
            "One day the sky for answer\n",
            "This is no starting alone\n",
            "Together for the sky this way someter love\n",
            "Shower me with your love\n",
            "Shower me with the heat\n",
            "If you play your can't take it in your kind\n",
            "I want to know the way I feel to say\n",
            "I'll do the rest\n",
            "(I'll do it and stop making the thing somebody loves you)\n",
            "It's so good to you\n",
            "Sharord love\n",
            "Shooby-doo-bop, shoo\n",
            "So good\n",
            "(Ooh)\n",
            "To get you in the more\n",
            "And I'm drifting on the world\n",
            "(Baby, I'll do it)\n",
            "To know that you're the one time\n",
            "I know, the love is so right now\n",
            "Let me be the one for as would be time\n",
            "(I just wanna be the know\n"
          ]
        }
      ]
    }
  ]
}