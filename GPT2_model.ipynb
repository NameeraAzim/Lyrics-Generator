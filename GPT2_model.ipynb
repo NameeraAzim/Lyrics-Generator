{
  "cells": [
    {
      "cell_type": "code",
      "execution_count": 1,
      "metadata": {
        "id": "TWaSyTrLAKSp"
      },
      "outputs": [
        {
          "name": "stderr",
          "output_type": "stream",
          "text": [
            "C:\\Users\\caoki\\AppData\\Local\\Programs\\Python\\Python37\\lib\\site-packages\\tqdm\\auto.py:22: TqdmWarning: IProgress not found. Please update jupyter and ipywidgets. See https://ipywidgets.readthedocs.io/en/stable/user_install.html\n",
            "  from .autonotebook import tqdm as notebook_tqdm\n"
          ]
        },
        {
          "name": "stdout",
          "output_type": "stream",
          "text": [
            "Requirement already satisfied: pandas in c:\\users\\caoki\\appdata\\local\\programs\\python\\python37\\lib\\site-packages (1.3.5)\n",
            "Requirement already satisfied: pytz>=2017.3 in c:\\users\\caoki\\appdata\\local\\programs\\python\\python37\\lib\\site-packages (from pandas) (2021.3)\n",
            "Requirement already satisfied: python-dateutil>=2.7.3 in c:\\users\\caoki\\appdata\\roaming\\python\\python37\\site-packages (from pandas) (2.8.1)\n",
            "Requirement already satisfied: numpy>=1.17.3; platform_machine != \"aarch64\" and platform_machine != \"arm64\" and python_version < \"3.10\" in c:\\users\\caoki\\appdata\\local\\programs\\python\\python37\\lib\\site-packages (from pandas) (1.19.3)\n",
            "Requirement already satisfied: six>=1.5 in c:\\users\\caoki\\appdata\\roaming\\python\\python37\\site-packages (from python-dateutil>=2.7.3->pandas) (1.15.0)\n",
            "Note: you may need to restart the kernel to use updated packages.\n"
          ]
        },
        {
          "name": "stderr",
          "output_type": "stream",
          "text": [
            "WARNING: You are using pip version 20.1.1; however, version 22.0.4 is available.\n",
            "You should consider upgrading via the 'C:\\Users\\caoki\\AppData\\Local\\Programs\\Python\\Python37\\python.exe -m pip install --upgrade pip' command.\n"
          ]
        },
        {
          "name": "stdout",
          "output_type": "stream",
          "text": [
            "Requirement already satisfied: spotipy in c:\\users\\caoki\\appdata\\local\\programs\\python\\python37\\lib\\site-packages (2.19.0)Note: you may need to restart the kernel to use updated packages.\n",
            "Requirement already satisfied: urllib3>=1.26.0 in c:\\users\\caoki\\appdata\\local\\programs\\python\\python37\\lib\\site-packages (from spotipy) (1.26.7)\n",
            "\n"
          ]
        },
        {
          "name": "stderr",
          "output_type": "stream",
          "text": [
            "WARNING: You are using pip version 20.1.1; however, version 22.0.4 is available.\n",
            "You should consider upgrading via the 'C:\\Users\\caoki\\AppData\\Local\\Programs\\Python\\Python37\\python.exe -m pip install --upgrade pip' command.\n"
          ]
        },
        {
          "name": "stdout",
          "output_type": "stream",
          "text": [
            "Requirement already satisfied: six>=1.15.0 in c:\\users\\caoki\\appdata\\roaming\\python\\python37\\site-packages (from spotipy) (1.15.0)\n",
            "Requirement already satisfied: requests>=2.25.0 in c:\\users\\caoki\\appdata\\local\\programs\\python\\python37\\lib\\site-packages (from spotipy) (2.26.0)\n",
            "Requirement already satisfied: idna<4,>=2.5; python_version >= \"3\" in c:\\users\\caoki\\appdata\\local\\programs\\python\\python37\\lib\\site-packages (from requests>=2.25.0->spotipy) (3.3)\n",
            "Requirement already satisfied: charset-normalizer~=2.0.0; python_version >= \"3\" in c:\\users\\caoki\\appdata\\local\\programs\\python\\python37\\lib\\site-packages (from requests>=2.25.0->spotipy) (2.0.8)\n",
            "Requirement already satisfied: certifi>=2017.4.17 in c:\\users\\caoki\\appdata\\local\\programs\\python\\python37\\lib\\site-packages (from requests>=2.25.0->spotipy) (2021.10.8)\n",
            "Requirement already satisfied: bs4 in c:\\users\\caoki\\appdata\\local\\programs\\python\\python37\\lib\\site-packages (0.0.1)\n",
            "Requirement already satisfied: beautifulsoup4 in c:\\users\\caoki\\appdata\\local\\programs\\python\\python37\\lib\\site-packages (from bs4) (4.11.1)\n",
            "Requirement already satisfied: soupsieve>1.2 in c:\\users\\caoki\\appdata\\local\\programs\\python\\python37\\lib\\site-packages (from beautifulsoup4->bs4) (2.3.2.post1)\n",
            "Note: you may need to restart the kernel to use updated packages.\n"
          ]
        },
        {
          "name": "stderr",
          "output_type": "stream",
          "text": [
            "WARNING: You are using pip version 20.1.1; however, version 22.0.4 is available.\n",
            "You should consider upgrading via the 'C:\\Users\\caoki\\AppData\\Local\\Programs\\Python\\Python37\\python.exe -m pip install --upgrade pip' command.\n"
          ]
        },
        {
          "name": "stdout",
          "output_type": "stream",
          "text": [
            "Requirement already satisfied: torch in c:\\users\\caoki\\appdata\\local\\programs\\python\\python37\\lib\\site-packages (1.10.2+cu113)\n",
            "Requirement already satisfied: typing-extensions in c:\\users\\caoki\\appdata\\local\\programs\\python\\python37\\lib\\site-packages (from torch) (3.10.0.2)\n",
            "Note: you may need to restart the kernel to use updated packages.\n"
          ]
        },
        {
          "name": "stderr",
          "output_type": "stream",
          "text": [
            "WARNING: You are using pip version 20.1.1; however, version 22.0.4 is available.\n",
            "You should consider upgrading via the 'C:\\Users\\caoki\\AppData\\Local\\Programs\\Python\\Python37\\python.exe -m pip install --upgrade pip' command.\n"
          ]
        },
        {
          "name": "stdout",
          "output_type": "stream",
          "text": [
            "Requirement already satisfied: transformers in c:\\users\\caoki\\appdata\\local\\programs\\python\\python37\\lib\\site-packages (4.18.0)\n",
            "Requirement already satisfied: pyyaml>=5.1 in c:\\users\\caoki\\appdata\\local\\programs\\python\\python37\\lib\\site-packages (from transformers) (6.0)\n",
            "Requirement already satisfied: packaging>=20.0 in c:\\users\\caoki\\appdata\\local\\programs\\python\\python37\\lib\\site-packages (from transformers) (21.3)\n",
            "Requirement already satisfied: numpy>=1.17 in c:\\users\\caoki\\appdata\\local\\programs\\python\\python37\\lib\\site-packages (from transformers) (1.19.3)\n",
            "Requirement already satisfied: filelock in c:\\users\\caoki\\appdata\\local\\programs\\python\\python37\\lib\\site-packages (from transformers) (3.0.12)\n",
            "Requirement already satisfied: huggingface-hub<1.0,>=0.1.0 in c:\\users\\caoki\\appdata\\local\\programs\\python\\python37\\lib\\site-packages (from transformers) (0.5.1)\n",
            "Requirement already satisfied: tqdm>=4.27 in c:\\users\\caoki\\appdata\\local\\programs\\python\\python37\\lib\\site-packages (from transformers) (4.64.0)\n",
            "Requirement already satisfied: requests in c:\\users\\caoki\\appdata\\local\\programs\\python\\python37\\lib\\site-packages (from transformers) (2.26.0)\n",
            "Requirement already satisfied: sacremoses in c:\\users\\caoki\\appdata\\local\\programs\\python\\python37\\lib\\site-packages (from transformers) (0.0.49)\n",
            "Requirement already satisfied: regex!=2019.12.17 in c:\\users\\caoki\\appdata\\local\\programs\\python\\python37\\lib\\site-packages (from transformers) (2021.10.23)\n",
            "Requirement already satisfied: tokenizers!=0.11.3,<0.13,>=0.11.1 in c:\\users\\caoki\\appdata\\local\\programs\\python\\python37\\lib\\site-packages (from transformers) (0.12.1)\n",
            "Requirement already satisfied: importlib-metadata; python_version < \"3.8\" in c:\\users\\caoki\\appdata\\roaming\\python\\python37\\site-packages (from transformers) (3.3.0)\n",
            "Requirement already satisfied: pyparsing!=3.0.5,>=2.0.2 in c:\\users\\caoki\\appdata\\local\\programs\\python\\python37\\lib\\site-packages (from packaging>=20.0->transformers) (2.4.7)\n",
            "Requirement already satisfied: typing-extensions>=3.7.4.3 in c:\\users\\caoki\\appdata\\local\\programs\\python\\python37\\lib\\site-packages (from huggingface-hub<1.0,>=0.1.0->transformers) (3.10.0.2)\n",
            "Requirement already satisfied: colorama; platform_system == \"Windows\" in c:\\users\\caoki\\appdata\\roaming\\python\\python37\\site-packages (from tqdm>=4.27->transformers) (0.4.4)\n",
            "Requirement already satisfied: urllib3<1.27,>=1.21.1 in c:\\users\\caoki\\appdata\\local\\programs\\python\\python37\\lib\\site-packages (from requests->transformers) (1.26.7)\n",
            "Requirement already satisfied: certifi>=2017.4.17 in c:\\users\\caoki\\appdata\\local\\programs\\python\\python37\\lib\\site-packages (from requests->transformers) (2021.10.8)\n",
            "Requirement already satisfied: idna<4,>=2.5; python_version >= \"3\" in c:\\users\\caoki\\appdata\\local\\programs\\python\\python37\\lib\\site-packages (from requests->transformers) (3.3)\n",
            "Requirement already satisfied: charset-normalizer~=2.0.0; python_version >= \"3\" in c:\\users\\caoki\\appdata\\local\\programs\\python\\python37\\lib\\site-packages (from requests->transformers) (2.0.8)\n",
            "Requirement already satisfied: six in c:\\users\\caoki\\appdata\\roaming\\python\\python37\\site-packages (from sacremoses->transformers) (1.15.0)\n",
            "Requirement already satisfied: click in c:\\users\\caoki\\appdata\\local\\programs\\python\\python37\\lib\\site-packages (from sacremoses->transformers) (8.0.3)\n",
            "Requirement already satisfied: joblib in c:\\users\\caoki\\appdata\\local\\programs\\python\\python37\\lib\\site-packages (from sacremoses->transformers) (1.1.0)\n",
            "Requirement already satisfied: zipp>=0.5 in c:\\users\\caoki\\appdata\\roaming\\python\\python37\\site-packages (from importlib-metadata; python_version < \"3.8\"->transformers) (3.4.0)\n",
            "Note: you may need to restart the kernel to use updated packages.\n"
          ]
        },
        {
          "name": "stderr",
          "output_type": "stream",
          "text": [
            "WARNING: You are using pip version 20.1.1; however, version 22.0.4 is available.\n",
            "You should consider upgrading via the 'C:\\Users\\caoki\\AppData\\Local\\Programs\\Python\\Python37\\python.exe -m pip install --upgrade pip' command.\n",
            "UsageError: Line magic function `%` not found.\n"
          ]
        }
      ],
      "source": [
        "import matplotlib.pyplot as plt\n",
        "from transformers import AdamW, get_linear_schedule_with_warmup\n",
        "from transformers import GPT2LMHeadModel,  GPT2Tokenizer, GPT2Config, GPT2LMHeadModel\n",
        "from torch.utils.data import Dataset, DataLoader, RandomSampler\n",
        "import torch\n",
        "import requests\n",
        "from bs4 import BeautifulSoup\n",
        "from spotipy.oauth2 import SpotifyClientCredentials\n",
        "import spotipy\n",
        "import pandas as pd\n",
        "%pip install pandas\n",
        "%pip install spotipy\n",
        "%pip install bs4\n",
        "%pip install torch\n",
        "%pip install transformers\n",
        "\n",
        "% matplotlib inline\n",
        "\n",
        "\n",
        "torch.manual_seed(413)\n"
      ]
    },
    {
      "cell_type": "code",
      "execution_count": 2,
      "metadata": {
        "id": "Er98e4xLDmLI"
      },
      "outputs": [],
      "source": [
        "cid = '5c2034b1ae67482c8e309a15b8301688'\n",
        "secret = '2012b40e3aad47c68743b538f92f378e'\n",
        "\n",
        "client_credentials_manager = SpotifyClientCredentials(\n",
        "    client_id=cid, client_secret=secret)\n",
        "sp = spotipy.Spotify(client_credentials_manager=client_credentials_manager)\n"
      ]
    },
    {
      "cell_type": "markdown",
      "metadata": {
        "id": "c_BHmZ0mPFOR"
      },
      "source": [
        "# Retrieving the Data\n"
      ]
    },
    {
      "cell_type": "code",
      "execution_count": 3,
      "metadata": {
        "id": "53kyr8hHGqII"
      },
      "outputs": [],
      "source": [
        "# Helper functions\n",
        "\n",
        "# Getting artist and song titles\n",
        "def get_album_tracks(uri_info):\n",
        "    titles = []\n",
        "    artists = []\n",
        "    one = sp.playlist_tracks(uri_info, limit=100, offset=0, market='US')\n",
        "    df1 = pd.DataFrame(one)\n",
        "\n",
        "    for i, x in df1['items'].items():\n",
        "        track = x['track']\n",
        "        titles.append(track['name'])\n",
        "        artists.append(track['artists'][0]['name'])\n",
        "\n",
        "    df2 = pd.DataFrame({'title': titles, 'artist': artists})\n",
        "\n",
        "    return df2\n",
        "\n",
        "# Get lyrics using the Genius API\n",
        "\n",
        "\n",
        "def scrape_lyrics(artistname, songname):\n",
        "    artistname2 = str(artistname.replace(' ', '-')\n",
        "                      ) if ' ' in artistname else str(artistname)\n",
        "    songname2 = str(songname.replace(' ', '-')\n",
        "                    ) if ' ' in songname else str(songname)\n",
        "    page = requests.get('https://genius.com/' +\n",
        "                        artistname2 + '-' + songname2 + '-' + 'lyrics')\n",
        "    html = BeautifulSoup(page.text, 'html.parser')\n",
        "\n",
        "    lyrics1 = html.find(\"div\", class_=\"lyrics\")\n",
        "    lyrics2 = html.find(\"div\", class_=\"Lyrics__Container-sc-1ynbvzw-6 jYfhrf\")\n",
        "    if lyrics1:\n",
        "        lyrics = lyrics1.get_text()\n",
        "    elif lyrics2:\n",
        "        lyrics = lyrics2.get_text()\n",
        "    elif lyrics1 == lyrics2 == None:\n",
        "        lyrics = None\n",
        "\n",
        "    lines = []\n",
        "    for div in html.findAll('div', {'class': 'Lyrics__Container-sc-1ynbvzw-6 jYfhrf'}):\n",
        "        lines.extend([text if text[0] !=\n",
        "                      '[' else '\\n' for text in div.stripped_strings])\n",
        "\n",
        "    lyrics = \"\"\n",
        "    for line in lines:\n",
        "        if line != '\\n':\n",
        "            lyrics += line + '\\n'\n",
        "\n",
        "    return lyrics\n",
        "\n",
        "# Clean and format dataframe with artists, titles, and lyrics\n",
        "\n",
        "\n",
        "def format_data(tracks_data):\n",
        "    lyrics_data = []\n",
        "    for index, row in tracks_data.iterrows():\n",
        "        song = scrape_lyrics(row['artist'], row['title'])\n",
        "        if song != '':\n",
        "            lyrics_data.append(song)\n",
        "        elif song == '':\n",
        "            tracks_data = tracks_data.drop(index)\n",
        "\n",
        "    tracks_data = tracks_data.reset_index(drop=True)\n",
        "    lyrics_df = pd.DataFrame({\n",
        "        'lyrics': lyrics_data\n",
        "    })\n",
        "\n",
        "    result_df = tracks_data.merge(lyrics_df, left_index=True, right_index=True)\n",
        "\n",
        "    return result_df\n"
      ]
    },
    {
      "cell_type": "code",
      "execution_count": 4,
      "metadata": {
        "colab": {
          "base_uri": "https://localhost:8080/"
        },
        "id": "3B3OOr6ikppb",
        "outputId": "82e5cf88-8897-4365-de47-0eb7fe022b42"
      },
      "outputs": [
        {
          "name": "stdout",
          "output_type": "stream",
          "text": [
            "                 title          artist  \\\n",
            "0   I Knew I Loved You   Savage Garden   \n",
            "1        How Do I Live     LeAnn Rimes   \n",
            "2          Back At One  Brian McKnight   \n",
            "3  From This Moment On    Shania Twain   \n",
            "4            Sometimes  Britney Spears   \n",
            "\n",
            "                                              lyrics  \n",
            "0  Maybe it's intuition\\nBut some things you just...  \n",
            "1  How do I get through one night without you?\\nI...  \n",
            "2  It's undeniable\\nThat we should be together\\nI...  \n",
            "3  I do swear that I'll always be there\\nI'd give...  \n",
            "4  You tell me you're in love with me\\nLike you c...  \n"
          ]
        }
      ],
      "source": [
        "# Loading tracks from various love song playlists on Spotify\n",
        "tracks1 = get_album_tracks('spotify:playlist:37i9dQZF1DWXqpDKK4ed9O')\n",
        "data1 = format_data(tracks1)\n",
        "\n",
        "tracks2 = get_album_tracks('spotify:playlist:2dcBq49u1O05UfOYp7IliA')\n",
        "data2 = format_data(tracks2)\n",
        "\n",
        "tracks3 = get_album_tracks('spotify:playlist:1k1OMvzbPSRzG2Dt5kJXay')\n",
        "data3 = format_data(tracks3)\n",
        "\n",
        "tracks4 = get_album_tracks('spotify:playlist:37i9dQZF1DXc3KygMa1OE7')\n",
        "data4 = format_data(tracks4)\n",
        "\n",
        "frames = [data1, data2, data3, data4]\n",
        "\n",
        "df = pd.concat(frames)\n",
        "\n",
        "# Filter duplicate songs because we used multiple playlists\n",
        "df = df.drop_duplicates()\n",
        "\n",
        "# Check\n",
        "print(df.head())\n",
        "lyrics_data = df['lyrics']\n"
      ]
    },
    {
      "cell_type": "markdown",
      "metadata": {
        "id": "WCOClSe9rikM"
      },
      "source": [
        "# GPT-2 Tokenizer\n",
        "\n",
        "I'm using the Huggingface transformers library on the lyrics data to fine-tune the GPT2 model in order to generate song lyrics.\n"
      ]
    },
    {
      "cell_type": "code",
      "execution_count": 5,
      "metadata": {
        "colab": {
          "base_uri": "https://localhost:8080/"
        },
        "id": "n8yWFP5HroyI",
        "outputId": "a2b90936-5072-4cbb-f6f1-53778b5d3e76"
      },
      "outputs": [
        {
          "name": "stderr",
          "output_type": "stream",
          "text": [
            "Special tokens have been added in the vocabulary, make sure the associated word embeddings are fine-tuned or trained.\n"
          ]
        }
      ],
      "source": [
        "# Load GPT tokenizer\n",
        "tokenizer = GPT2Tokenizer.from_pretrained(\n",
        "    'gpt2', bos_token='<|startoftext|>', eos_token='<|endoftext|>', pad_token='<|pad|>')\n"
      ]
    },
    {
      "cell_type": "code",
      "execution_count": 6,
      "metadata": {
        "colab": {
          "base_uri": "https://localhost:8080/"
        },
        "id": "zbuxA1BBXJl8",
        "outputId": "6972a6bf-a042-4fa5-fcde-b8fa56459b8f"
      },
      "outputs": [
        {
          "name": "stdout",
          "output_type": "stream",
          "text": [
            "tensor([[  40, 1842,  428, 3644, 3783, 1398]])\n"
          ]
        },
        {
          "data": {
            "text/plain": [
              "tensor([[   40,  1842, 37793]])"
            ]
          },
          "execution_count": 6,
          "metadata": {},
          "output_type": "execute_result"
        }
      ],
      "source": [
        "# Exploring the GPT2 tokenizer\n",
        "# GPT-2 cannot work with strings directly. We need to tokenize each string, turning it into a list of numbers/tokens instead\n",
        "test_sentence = \"I love this computer science class\"\n",
        "input_ids = tokenizer.encode(test_sentence, return_tensors='pt')\n",
        "\n",
        "test_sentence2 = \"I love puppies\"\n",
        "input_ids2 = tokenizer.encode(test_sentence2, return_tensors='pt')\n",
        "\n",
        "print(input_ids)\n",
        "input_ids2\n"
      ]
    },
    {
      "cell_type": "markdown",
      "metadata": {
        "id": "ySb1bkcw_q-g"
      },
      "source": [
        "# PyTorch Dataset and Dataloaders\n"
      ]
    },
    {
      "cell_type": "code",
      "execution_count": 7,
      "metadata": {
        "colab": {
          "base_uri": "https://localhost:8080/"
        },
        "id": "FbyCOZze_vjx",
        "outputId": "721ba708-357a-4560-a70d-ea689f15d2cb"
      },
      "outputs": [
        {
          "name": "stderr",
          "output_type": "stream",
          "text": [
            "Token indices sequence length is longer than the specified maximum sequence length for this model (1064 > 1024). Running this sequence through the model will result in indexing errors\n"
          ]
        },
        {
          "name": "stdout",
          "output_type": "stream",
          "text": [
            "1255\n"
          ]
        }
      ],
      "source": [
        "# Keeping the batch size at 2 to avoid out of memory errors because GPT2 is a large model\n",
        "batch_size = 2\n",
        "\n",
        "# Lyrics will truncate without the eos token if it is longer than 1024 tokens\n",
        "max_length = max([len(tokenizer.encode(lyric))\n",
        "                  for lyric in lyrics_data])\n",
        "\n",
        "print(max_length)\n"
      ]
    },
    {
      "cell_type": "code",
      "execution_count": 8,
      "metadata": {
        "id": "J6kkWGaRJ6TS"
      },
      "outputs": [],
      "source": [
        "# Custom dataset class with PyTorch\n",
        "class LyricsDataset(Dataset):\n",
        "\n",
        "    def __init__(self, lyrics_data, tokenizer, max_length=768):\n",
        "\n",
        "        self.tokenizer = tokenizer\n",
        "        self.input_ids = []\n",
        "        self.attn_masks = []\n",
        "\n",
        "        for lyrics in lyrics_data:\n",
        "            # Wrap each of the lyrics in bos and eos tokens\n",
        "            # Pad if less than max_length tokens and truncate without eos token if longer than max_length tokens\n",
        "            encodings_dict = tokenizer('<|startoftext|>' + lyrics + '<|endoftext|>',\n",
        "                                       truncation=True, max_length=max_length, padding=\"max_length\")\n",
        "\n",
        "            self.input_ids.append(torch.tensor(encodings_dict['input_ids']))\n",
        "            self.attn_masks.append(torch.tensor(\n",
        "                encodings_dict['attention_mask']))\n",
        "\n",
        "    def __len__(self):\n",
        "        return len(self.input_ids)\n",
        "\n",
        "    def __getitem__(self, idx):\n",
        "        return self.input_ids[idx], self.attn_masks[idx]\n"
      ]
    },
    {
      "cell_type": "code",
      "execution_count": 9,
      "metadata": {
        "id": "8Eyz47STYOTf"
      },
      "outputs": [],
      "source": [
        "dataset = LyricsDataset(lyrics_data, tokenizer, max_length=768)\n",
        "\n",
        "# Selects batches randomly and trains with a batch size of 2\n",
        "train_dataloader = DataLoader(\n",
        "    dataset, sampler=RandomSampler(dataset), batch_size=batch_size)\n"
      ]
    },
    {
      "cell_type": "markdown",
      "metadata": {
        "id": "S4VuNrh8aR-T"
      },
      "source": [
        "# Finetuning GPT-2\n"
      ]
    },
    {
      "cell_type": "code",
      "execution_count": 10,
      "metadata": {
        "colab": {
          "base_uri": "https://localhost:8080/"
        },
        "id": "P6JGckeKaWqn",
        "outputId": "2bbcd3b1-5cdc-4440-9908-0ac4547773ea"
      },
      "outputs": [
        {
          "data": {
            "text/plain": [
              "Embedding(50259, 768)"
            ]
          },
          "execution_count": 10,
          "metadata": {},
          "output_type": "execute_result"
        }
      ],
      "source": [
        "# Load model\n",
        "configuration = GPT2Config.from_pretrained(\n",
        "    'gpt2', output_hidden_states=False)\n",
        "model = GPT2LMHeadModel.from_pretrained('gpt2', config=configuration)\n",
        "\n",
        "# Necessary because we've added new bos and eos tokens\n",
        "model.resize_token_embeddings(len(tokenizer))\n"
      ]
    },
    {
      "cell_type": "code",
      "execution_count": 11,
      "metadata": {
        "id": "uLrY8y-lceUY"
      },
      "outputs": [],
      "source": [
        "# Function to train\n",
        "def train(dataloader, model, epochs, learning_rate, warmup_steps, epsilon):\n",
        "\n",
        "    training_stats = []\n",
        "\n",
        "    total_steps = len(dataloader) * epochs\n",
        "\n",
        "    optimizer = AdamW(model.parameters(),\n",
        "                      lr=learning_rate,\n",
        "                      eps=epsilon\n",
        "                      )\n",
        "\n",
        "    scheduler = get_linear_schedule_with_warmup(optimizer,\n",
        "                                                num_warmup_steps=warmup_steps,\n",
        "                                                num_training_steps=total_steps)\n",
        "\n",
        "    for epoch in range(0, epochs):\n",
        "\n",
        "        print(f'======== Epoch {epoch + 1} / {epochs} ========')\n",
        "\n",
        "        total_train_loss = 0\n",
        "\n",
        "        model.train()\n",
        "\n",
        "        for step, batch in enumerate(dataloader):\n",
        "\n",
        "            b_input_ids = batch[0]\n",
        "            b_labels = batch[0]\n",
        "            b_masks = batch[1]\n",
        "\n",
        "            model.zero_grad()\n",
        "\n",
        "            outputs = model(b_input_ids,\n",
        "                            labels=b_labels,\n",
        "                            attention_mask=b_masks,\n",
        "                            token_type_ids=None\n",
        "                            )\n",
        "\n",
        "            loss = outputs[0]\n",
        "\n",
        "            batch_loss = loss.item()\n",
        "            total_train_loss += batch_loss\n",
        "\n",
        "            # Backward pass\n",
        "            loss.backward()\n",
        "            optimizer.step()\n",
        "\n",
        "            scheduler.step()\n",
        "\n",
        "        # Average training loss across a single batch\n",
        "        avg_train_loss = total_train_loss / len(train_dataloader)\n",
        "\n",
        "        print(\"Average training loss: {0:.2f}\".format(avg_train_loss))\n",
        "\n",
        "        training_stats.append(\n",
        "            {\n",
        "                'Epoch': epoch + 1,\n",
        "                'Training Loss': avg_train_loss\n",
        "            }\n",
        "        )\n",
        "\n",
        "    return model, training_stats\n"
      ]
    },
    {
      "cell_type": "code",
      "execution_count": 12,
      "metadata": {
        "colab": {
          "base_uri": "https://localhost:8080/"
        },
        "id": "IdPdwhWKk8j5",
        "outputId": "49e7dba9-3a41-4655-cf95-4f5ea2d17a48"
      },
      "outputs": [
        {
          "name": "stderr",
          "output_type": "stream",
          "text": [
            "C:\\Users\\caoki\\AppData\\Local\\Programs\\Python\\Python37\\lib\\site-packages\\transformers\\optimization.py:309: FutureWarning: This implementation of AdamW is deprecated and will be removed in a future version. Use the PyTorch implementation torch.optim.AdamW instead, or set `no_deprecation_warning=True` to disable this warning\n",
            "  FutureWarning,\n"
          ]
        },
        {
          "name": "stdout",
          "output_type": "stream",
          "text": [
            "======== Epoch 1 / 10 ========\n",
            "Average training loss: 5.94\n",
            "======== Epoch 2 / 10 ========\n",
            "Average training loss: 1.25\n",
            "======== Epoch 3 / 10 ========\n",
            "Average training loss: 1.12\n",
            "======== Epoch 4 / 10 ========\n",
            "Average training loss: 1.04\n",
            "======== Epoch 5 / 10 ========\n",
            "Average training loss: 0.98\n",
            "======== Epoch 6 / 10 ========\n",
            "Average training loss: 0.93\n",
            "======== Epoch 7 / 10 ========\n",
            "Average training loss: 0.88\n",
            "======== Epoch 8 / 10 ========\n",
            "Average training loss: 0.84\n",
            "======== Epoch 9 / 10 ========\n",
            "Average training loss: 0.81\n",
            "======== Epoch 10 / 10 ========\n",
            "Average training loss: 0.79\n"
          ]
        },
        {
          "data": {
            "text/html": [
              "<div>\n",
              "<style scoped>\n",
              "    .dataframe tbody tr th:only-of-type {\n",
              "        vertical-align: middle;\n",
              "    }\n",
              "\n",
              "    .dataframe tbody tr th {\n",
              "        vertical-align: top;\n",
              "    }\n",
              "\n",
              "    .dataframe thead th {\n",
              "        text-align: right;\n",
              "    }\n",
              "</style>\n",
              "<table border=\"1\" class=\"dataframe\">\n",
              "  <thead>\n",
              "    <tr style=\"text-align: right;\">\n",
              "      <th></th>\n",
              "      <th>Training Loss</th>\n",
              "    </tr>\n",
              "    <tr>\n",
              "      <th>Epoch</th>\n",
              "      <th></th>\n",
              "    </tr>\n",
              "  </thead>\n",
              "  <tbody>\n",
              "    <tr>\n",
              "      <th>1</th>\n",
              "      <td>5.936393</td>\n",
              "    </tr>\n",
              "    <tr>\n",
              "      <th>2</th>\n",
              "      <td>1.247347</td>\n",
              "    </tr>\n",
              "    <tr>\n",
              "      <th>3</th>\n",
              "      <td>1.121989</td>\n",
              "    </tr>\n",
              "    <tr>\n",
              "      <th>4</th>\n",
              "      <td>1.041597</td>\n",
              "    </tr>\n",
              "    <tr>\n",
              "      <th>5</th>\n",
              "      <td>0.976653</td>\n",
              "    </tr>\n",
              "    <tr>\n",
              "      <th>6</th>\n",
              "      <td>0.926351</td>\n",
              "    </tr>\n",
              "    <tr>\n",
              "      <th>7</th>\n",
              "      <td>0.882852</td>\n",
              "    </tr>\n",
              "    <tr>\n",
              "      <th>8</th>\n",
              "      <td>0.844295</td>\n",
              "    </tr>\n",
              "    <tr>\n",
              "      <th>9</th>\n",
              "      <td>0.811872</td>\n",
              "    </tr>\n",
              "    <tr>\n",
              "      <th>10</th>\n",
              "      <td>0.790221</td>\n",
              "    </tr>\n",
              "  </tbody>\n",
              "</table>\n",
              "</div>"
            ],
            "text/plain": [
              "       Training Loss\n",
              "Epoch               \n",
              "1           5.936393\n",
              "2           1.247347\n",
              "3           1.121989\n",
              "4           1.041597\n",
              "5           0.976653\n",
              "6           0.926351\n",
              "7           0.882852\n",
              "8           0.844295\n",
              "9           0.811872\n",
              "10          0.790221"
            ]
          },
          "execution_count": 12,
          "metadata": {},
          "output_type": "execute_result"
        }
      ],
      "source": [
        "model, training_stats = train(\n",
        "    train_dataloader, model, epochs=10, learning_rate=0.0005, warmup_steps=100, epsilon=1e-8)\n",
        "\n",
        "# Display average training loss for each epoch\n",
        "results = pd.DataFrame(training_stats)\n",
        "results = results.set_index('Epoch')\n",
        "results\n"
      ]
    },
    {
      "cell_type": "code",
      "execution_count": 19,
      "metadata": {},
      "outputs": [
        {
          "data": {
            "image/png": "[encoded data removed]",
            "text/plain": [
              "<Figure size 432x288 with 1 Axes>"
            ]
          },
          "metadata": {
            "needs_background": "light"
          },
          "output_type": "display_data"
        }
      ],
      "source": [
        "# Plot training loss\n",
        "plt.plot(results['Training Loss'])\n",
        "plt.title('Training Loss for Epochs = 10')\n",
        "plt.xlabel('Epoch')\n",
        "plt.ylabel(\"Loss\")\n",
        "plt.xticks([1, 2, 3, 4, 5, 6, 7, 8, 9, 10])\n",
        "\n",
        "plt.show()\n"
      ]
    },
    {
      "cell_type": "markdown",
      "metadata": {},
      "source": [
        "# Let's Crank Some Tunes\n"
      ]
    },
    {
      "cell_type": "code",
      "execution_count": 14,
      "metadata": {},
      "outputs": [],
      "source": [
        "def generate_lyrics(prompt, top_p, top_k, num_return_sequences, max_length):\n",
        "\n",
        "    model.eval()\n",
        "\n",
        "    generated = torch.tensor(tokenizer.encode(prompt)).unsqueeze(0)\n",
        "\n",
        "    outputs = model.generate(generated, do_sample=True, top_k=top_k, max_length=max_length,\n",
        "                             top_p=top_p, num_return_sequences=num_return_sequences)\n",
        "\n",
        "    for i, output in enumerate(outputs):\n",
        "        print(\n",
        "            f\"======= Output {i+1}: ========\\n{tokenizer.decode(output, skip_special_tokens=True)}\\n\\n\")\n"
      ]
    },
    {
      "cell_type": "code",
      "execution_count": 24,
      "metadata": {},
      "outputs": [
        {
          "name": "stderr",
          "output_type": "stream",
          "text": [
            "Setting `pad_token_id` to `eos_token_id`:50256 for open-end generation.\n"
          ]
        },
        {
          "name": "stdout",
          "output_type": "stream",
          "text": [
            "======= Output 1: ========\n",
            "There's no place like home\n",
            "And there's nothing to see, no one to hold\n",
            "You can breathe again, you can feel the touch of my skin\n",
            "Even the sweet, warm days fade away\n",
            "Thoughts of you stay\n",
            "And I still want you\n",
            "To hold on\n",
            "And make it real\n",
            "In my life, I'll be true to myself\n",
            "I'll never make it a question of my love\n",
            "You're everything I've dreamed of\n",
            "But now you're gone\n",
            "And my spirit is dead\n",
            "With no trace of hope\n",
            "And you can never see, no one to hold\n",
            "You can breathe again, you can feel the touch of my skin\n",
            "Even the sweet, warm days fade away\n",
            "Thoughts of you stay\n",
            "And I still want you\n",
            "To hold on\n",
            "And make it real\n",
            "In my life, I'll be true to myself\n",
            "I'll never make it a question of my love\n",
            "You're everything I've dreamed of\n",
            "But now you're gone\n",
            "And my spirit is dead\n",
            "With no trace of hope\n",
            "And you can never see, no one to hold\n",
            "You can breathe again, you can feel the touch of my skin\n",
            "Even the sweet, warm days fade away\n",
            "Thoughts of you stay\n",
            "And I still want you\n",
            "To hold on\n",
            "And make it real\n",
            "In my life, I'll be true to myself\n",
            "I'll never make it a question of my love\n",
            "You're everything I've dreamed of\n",
            "\n",
            "\n",
            "\n",
            "======= Output 2: ========\n",
            "If you want something, you have to give it to me\n",
            "You can't have a day without tomorrow\n",
            "And if you want everything, you have to give it to me\n",
            "I want everything from here on\n",
            "So here it is\n",
            "You got to give it to me\n",
            "But first...\n",
            "Tell me what you want\n",
            "And do not waste my time\n",
            "I need your love\n",
            "So now I need you\n",
            "Your love, you always mean\n",
            "And I need you more than ever\n",
            "You know, I just want to make you understand\n",
            "And I need you more than ever\n",
            "You know, I just need you more than ever\n",
            "\n",
            "\n",
            "\n"
          ]
        }
      ],
      "source": [
        "generate_lyrics(prompt=\"<|startoftext|>\", top_p=0.95, top_k=50,\n",
        "                num_return_sequences=2, max_length=300)\n"
      ]
    }
  ],
  "metadata": {
    "colab": {
      "collapsed_sections": [],
      "name": "GPT-2Lyrics.ipynb",
      "provenance": []
    },
    "kernelspec": {
      "display_name": "Python 3",
      "name": "python3"
    },
    "language_info": {
      "codemirror_mode": {
        "name": "ipython",
        "version": 3
      },
      "file_extension": ".py",
      "mimetype": "text/x-python",
      "name": "python",
      "nbconvert_exporter": "python",
      "pygments_lexer": "ipython3",
      "version": "3.7.9"
    }
  },
  "nbformat": 4,
  "nbformat_minor": 0
}
